{
 "cells": [
  {
   "cell_type": "code",
   "execution_count": 20,
   "metadata": {},
   "outputs": [],
   "source": [
    "import random\n",
    "\n",
    "deck = [1,2,3,4,5,6,7,8,9,10,10,10,10,11]*4\n",
    "        \n",
    "class player():\n",
    "    earnings = 0\n",
    "    hand =[0,0]\n",
    "    bet = 0\n",
    "    \n",
    "    def __init__(self):\n",
    "        self.name = str(input(\"Player, enter your name: \")).capitalize()\n",
    "        print(f\"{self.name} has entered the game!\")\n",
    "        \n",
    "    def place_bet(self):\n",
    "        while True:\n",
    "            try:\n",
    "                self.bet = int(input(\"What do you bet: \"))\n",
    "            except:\n",
    "                print(\"Whoops! That is not a number\")\n",
    "                continue\n",
    "            else:\n",
    "                print(f\"{self.name} bets {self.bet}\")\n",
    "                \n",
    "class Dealer():\n",
    "    hand = [0,0]\n",
    "    \n",
    "    def __init__(self):\n",
    "        print(\"We have a dealer!\")\n",
    "        \n",
    "    def deal_cards(self):\n",
    "        #Dealing cards to the dealer\n",
    "        self.hand[0] = deck.pop(deck[random.randint(1,len(deck))])\n",
    "        self.hand[1] = deck.pop(deck[random.randint(1,len(deck))])\n",
    "        print(self.hand)\n",
    "        \n",
    "        #Dealing cards to the player \n",
    "        player.hand[0] = deck.pop(deck[random.randint(1,len(deck))])\n",
    "        self.hand[1] = deck.pop(deck[random.randint(1,len(deck))])\n",
    "        \n",
    "    \n",
    "\n",
    "    "
   ]
  },
  {
   "cell_type": "code",
   "execution_count": 21,
   "metadata": {},
   "outputs": [
    {
     "name": "stdout",
     "output_type": "stream",
     "text": [
      "We have a dealer!\n",
      "13\n",
      "[10, 9]\n"
     ]
    }
   ],
   "source": [
    "dealer = dealer()\n",
    "dealer.deal_cards()"
   ]
  },
  {
   "cell_type": "code",
   "execution_count": 18,
   "metadata": {},
   "outputs": [
    {
     "name": "stdout",
     "output_type": "stream",
     "text": [
      "[7, 10]\n",
      "54\n"
     ]
    }
   ],
   "source": [
    "deck = [1,2,3,4,5,6,7,8,9,10,10,10,10,11]*4\n",
    "hand = [0,0]\n",
    "hand[0] = deck.pop(deck[random.randint(1,len(deck))])\n",
    "hand[1] = deck.pop(deck[random.randint(1,len(deck))])\n",
    "print(hand)\n",
    "print(len(deck))"
   ]
  },
  {
   "cell_type": "code",
   "execution_count": 19,
   "metadata": {},
   "outputs": [
    {
     "name": "stdout",
     "output_type": "stream",
     "text": [
      "[10, 10]\n",
      "52\n"
     ]
    }
   ],
   "source": []
  },
  {
   "cell_type": "code",
   "execution_count": null,
   "metadata": {},
   "outputs": [],
   "source": []
  }
 ],
 "metadata": {
  "kernelspec": {
   "display_name": "Python 3",
   "language": "python",
   "name": "python3"
  },
  "language_info": {
   "codemirror_mode": {
    "name": "ipython",
    "version": 3
   },
   "file_extension": ".py",
   "mimetype": "text/x-python",
   "name": "python",
   "nbconvert_exporter": "python",
   "pygments_lexer": "ipython3",
   "version": "3.7.1"
  }
 },
 "nbformat": 4,
 "nbformat_minor": 2
}
