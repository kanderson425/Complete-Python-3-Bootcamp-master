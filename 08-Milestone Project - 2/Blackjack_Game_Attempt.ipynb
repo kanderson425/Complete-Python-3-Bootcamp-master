{
 "cells": [
  {
   "cell_type": "code",
   "execution_count": 12,
   "metadata": {},
   "outputs": [],
   "source": [
    "import random\n",
    "\n",
    "# deck = [1,2,3,4,5,6,7,8,9,10,10,10,10,11]*4\n",
    "deck = {\"Ace\":1,\"2\":2,\"3\":3,\"4\":4,\"5\":5,\"6\":6,\"7\":7,\"8\":8,\"9\":9,\"10\":10,\"Jack\":10,\"Queen\":10,\"King\":10,\"Ace\":11,\n",
    "            \"Ace\":1,\"2\":2,\"3\":3,\"4\":4,\"5\":5,\"6\":6,\"7\":7,\"8\":8,\"9\":9,\"10\":10,\"Jack\":10,\"Queen\":10,\"King\":10,\"Ace\":11,\n",
    "            \"Ace\":1,\"2\":2,\"3\":3,\"4\":4,\"5\":5,\"6\":6,\"7\":7,\"8\":8,\"9\":9,\"10\":10,\"Jack\":10,\"Queen\":10,\"King\":10,\"Ace\":11,\n",
    "            \"Ace\":1,\"2\":2,\"3\":3,\"4\":4,\"5\":5,\"6\":6,\"7\":7,\"8\":8,\"9\":9,\"10\":10,\"Jack\":10,\"Queen\":10,\"King\":10,\"Ace\":11}\n",
    "        \n",
    "class Player():\n",
    "    earnings = 100\n",
    "    hand = {\"card1\":0,\"card2\":0}\n",
    "    bet = 0\n",
    "    \n",
    "    def __init__(self):\n",
    "        self.name = str(input(\"Player, enter your name: \")).capitalize()\n",
    "        print(f\"{self.name} has entered the game!\")\n",
    "        \n",
    "    def place_bet(self):\n",
    "        while True:\n",
    "            try:\n",
    "                self.bet = int(input(\"What do you bet: \"))\n",
    "            except:\n",
    "                print(\"Whoops! That is not a number\")\n",
    "                continue\n",
    "            else:\n",
    "                if(self.bet <= self.earnings):\n",
    "                    print(f\"{self.name} bets {self.bet}\")\n",
    "                    break\n",
    "                else:\n",
    "                    print(\"Your bet exceeds your earnings.\\nPlace another bet that you can afford.\")\n",
    "                    continue\n",
    "    \n",
    "          \n",
    "class Dealer():\n",
    "    hand = {\"card1\":0,\"card2\":0}\n",
    "    \n",
    "    def __init__(self):\n",
    "        print(\"We have a dealer!\")\n",
    "        \n",
    "    def deal_cards(self):\n",
    "        #Dealing cards to the dealer\n",
    "        \n",
    "#         self.hand[0] = deck.pop(deck[random.randint(1,len(deck))])\n",
    "#         self.hand[1] = deck.pop(deck[random.randint(1,len(deck))])\n",
    "#         print(\"The dealer's hand is \" + str(self.hand[0]) + \" and X\")\n",
    "        \n",
    "        #Dealing cards to the player \n",
    "#         Player.hand[0] = deck.pop(deck[random.randint(1,len(deck))])\n",
    "#         Player.hand[1] = deck.pop(deck[random.randint(1,len(deck))])\n",
    "#         print(\"The dealer's hand is \" + str(Player.hand[0]) + \" and \" + str(Player.hand[1]))"
   ]
  },
  {
   "cell_type": "code",
   "execution_count": 84,
   "metadata": {},
   "outputs": [
    {
     "ename": "TypeError",
     "evalue": "'dict_items' object does not support indexing",
     "output_type": "error",
     "traceback": [
      "\u001b[0;31m---------------------------------------------------------------------------\u001b[0m",
      "\u001b[0;31mTypeError\u001b[0m                                 Traceback (most recent call last)",
      "\u001b[0;32m<ipython-input-84-e2116814eafc>\u001b[0m in \u001b[0;36m<module>\u001b[0;34m\u001b[0m\n\u001b[1;32m      5\u001b[0m             \"Ace\":1,\"2\":2,\"3\":3,\"4\":4,\"5\":5,\"6\":6,\"7\":7,\"8\":8,\"9\":9,\"10\":10,\"Jack\":10,\"Queen\":10,\"King\":10,\"Ace\":11}\n\u001b[1;32m      6\u001b[0m \u001b[0;34m\u001b[0m\u001b[0m\n\u001b[0;32m----> 7\u001b[0;31m \u001b[0mprint\u001b[0m\u001b[0;34m(\u001b[0m\u001b[0mdeck\u001b[0m\u001b[0;34m.\u001b[0m\u001b[0mpopitem\u001b[0m\u001b[0;34m(\u001b[0m\u001b[0mrandom\u001b[0m\u001b[0;34m.\u001b[0m\u001b[0mchoice\u001b[0m\u001b[0;34m(\u001b[0m\u001b[0mdeck\u001b[0m\u001b[0;34m.\u001b[0m\u001b[0mitems\u001b[0m\u001b[0;34m(\u001b[0m\u001b[0;34m)\u001b[0m\u001b[0;34m)\u001b[0m\u001b[0;34m)\u001b[0m\u001b[0;34m)\u001b[0m\u001b[0;34m\u001b[0m\u001b[0;34m\u001b[0m\u001b[0m\n\u001b[0m\u001b[1;32m      8\u001b[0m \u001b[0mprint\u001b[0m\u001b[0;34m(\u001b[0m\u001b[0mrandom\u001b[0m\u001b[0;34m.\u001b[0m\u001b[0mchoice\u001b[0m\u001b[0;34m(\u001b[0m\u001b[0mlist\u001b[0m\u001b[0;34m(\u001b[0m\u001b[0mdeck\u001b[0m\u001b[0;34m.\u001b[0m\u001b[0mvalues\u001b[0m\u001b[0;34m(\u001b[0m\u001b[0;34m)\u001b[0m\u001b[0;34m)\u001b[0m\u001b[0;34m)\u001b[0m\u001b[0;34m)\u001b[0m\u001b[0;34m\u001b[0m\u001b[0;34m\u001b[0m\u001b[0m\n\u001b[1;32m      9\u001b[0m \u001b[0;31m# Use popitem() to remove the random key/value pair from the dictionary\u001b[0m\u001b[0;34m\u001b[0m\u001b[0;34m\u001b[0m\u001b[0;34m\u001b[0m\u001b[0m\n",
      "\u001b[0;32m~/anaconda3/lib/python3.7/random.py\u001b[0m in \u001b[0;36mchoice\u001b[0;34m(self, seq)\u001b[0m\n\u001b[1;32m    260\u001b[0m         \u001b[0;32mexcept\u001b[0m \u001b[0mValueError\u001b[0m\u001b[0;34m:\u001b[0m\u001b[0;34m\u001b[0m\u001b[0;34m\u001b[0m\u001b[0m\n\u001b[1;32m    261\u001b[0m             \u001b[0;32mraise\u001b[0m \u001b[0mIndexError\u001b[0m\u001b[0;34m(\u001b[0m\u001b[0;34m'Cannot choose from an empty sequence'\u001b[0m\u001b[0;34m)\u001b[0m \u001b[0;32mfrom\u001b[0m \u001b[0;32mNone\u001b[0m\u001b[0;34m\u001b[0m\u001b[0;34m\u001b[0m\u001b[0m\n\u001b[0;32m--> 262\u001b[0;31m         \u001b[0;32mreturn\u001b[0m \u001b[0mseq\u001b[0m\u001b[0;34m[\u001b[0m\u001b[0mi\u001b[0m\u001b[0;34m]\u001b[0m\u001b[0;34m\u001b[0m\u001b[0;34m\u001b[0m\u001b[0m\n\u001b[0m\u001b[1;32m    263\u001b[0m \u001b[0;34m\u001b[0m\u001b[0m\n\u001b[1;32m    264\u001b[0m     \u001b[0;32mdef\u001b[0m \u001b[0mshuffle\u001b[0m\u001b[0;34m(\u001b[0m\u001b[0mself\u001b[0m\u001b[0;34m,\u001b[0m \u001b[0mx\u001b[0m\u001b[0;34m,\u001b[0m \u001b[0mrandom\u001b[0m\u001b[0;34m=\u001b[0m\u001b[0;32mNone\u001b[0m\u001b[0;34m)\u001b[0m\u001b[0;34m:\u001b[0m\u001b[0;34m\u001b[0m\u001b[0;34m\u001b[0m\u001b[0m\n",
      "\u001b[0;31mTypeError\u001b[0m: 'dict_items' object does not support indexing"
     ]
    }
   ],
   "source": [
    "hand = {}\n",
    "deck = {\"Ace\":1,\"2\":2,\"3\":3,\"4\":4,\"5\":5,\"6\":6,\"7\":7,\"8\":8,\"9\":9,\"10\":10,\"Jack\":10,\"Queen\":10,\"King\":10,\"Ace\":11,\n",
    "            \"Ace\":1,\"2\":2,\"3\":3,\"4\":4,\"5\":5,\"6\":6,\"7\":7,\"8\":8,\"9\":9,\"10\":10,\"Jack\":10,\"Queen\":10,\"King\":10,\"Ace\":11,\n",
    "            \"Ace\":1,\"2\":2,\"3\":3,\"4\":4,\"5\":5,\"6\":6,\"7\":7,\"8\":8,\"9\":9,\"10\":10,\"Jack\":10,\"Queen\":10,\"King\":10,\"Ace\":11,\n",
    "            \"Ace\":1,\"2\":2,\"3\":3,\"4\":4,\"5\":5,\"6\":6,\"7\":7,\"8\":8,\"9\":9,\"10\":10,\"Jack\":10,\"Queen\":10,\"King\":10,\"Ace\":11}\n",
    "\n",
    "print(deck.popitem(random.choice(deck.items())))\n",
    "print(random.choice(list(deck.values())))\n",
    "# Use popitem() to remove the random key/value pair from the dictionary\n",
    "# dict.pop(random.choice(dict.keys())\n",
    "\n",
    "# new_card_listItem1 = deck.pop(random.choice(deck.keys()))\n",
    "# print(new_card_listItem1)\n",
    "# hand.update({new_card_listItem1[0]:new_card_listItem1[1]})\n",
    "\n",
    "# new_card_listItem2 = random.choice(list(deck.items()))\n",
    "# hand.update({new_card_listItem2[0]:new_card_listItem2[1]})\n",
    "\n",
    "# print(hand)"
   ]
  },
  {
   "cell_type": "code",
   "execution_count": null,
   "metadata": {},
   "outputs": [],
   "source": []
  },
  {
   "cell_type": "code",
   "execution_count": null,
   "metadata": {},
   "outputs": [],
   "source": []
  },
  {
   "cell_type": "code",
   "execution_count": null,
   "metadata": {},
   "outputs": [],
   "source": []
  }
 ],
 "metadata": {
  "kernelspec": {
   "display_name": "Python 3",
   "language": "python",
   "name": "python3"
  },
  "language_info": {
   "codemirror_mode": {
    "name": "ipython",
    "version": 3
   },
   "file_extension": ".py",
   "mimetype": "text/x-python",
   "name": "python",
   "nbconvert_exporter": "python",
   "pygments_lexer": "ipython3",
   "version": "3.7.1"
  }
 },
 "nbformat": 4,
 "nbformat_minor": 2
}
