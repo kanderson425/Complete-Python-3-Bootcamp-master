{
 "cells": [
  {
   "cell_type": "code",
   "execution_count": null,
   "metadata": {},
   "outputs": [],
   "source": [
    "import random\n",
    "\n",
    "deck = [1,2,3,4,5,6,7,8,9,10,10,10,10,11]*4\n",
    "        \n",
    "class Player():\n",
    "    earnings = 100\n",
    "    hand =[0,0]\n",
    "    bet = 0\n",
    "    \n",
    "    def __init__(self):\n",
    "        self.name = str(input(\"Player, enter your name: \")).capitalize()\n",
    "        print(f\"{self.name} has entered the game!\")\n",
    "        \n",
    "    def place_bet(self):\n",
    "        while True:\n",
    "            try:\n",
    "                self.bet = int(input(\"What do you bet: \"))\n",
    "            except:\n",
    "                print(\"Whoops! That is not a number\")\n",
    "                continue\n",
    "            else:\n",
    "                if(self.bet <= self.earnings):\n",
    "                    print(f\"{self.name} bets {self.bet}\")\n",
    "                    break\n",
    "                else:\n",
    "                    print(\"Your bet exceeds your earnings.\\nPlace another bet that you can afford.\")\n",
    "                    continue\n",
    "                \n",
    "class Dealer():\n",
    "    hand = [0,0]\n",
    "    \n",
    "    def __init__(self):\n",
    "        print(\"We have a dealer!\")\n",
    "        \n",
    "    def deal_cards(self):\n",
    "        #Dealing cards to the dealer\n",
    "        self.hand[0] = deck.pop(deck[random.randint(1,len(deck))])\n",
    "        self.hand[1] = deck.pop(deck[random.randint(1,len(deck))])\n",
    "        print(self.hand)\n",
    "        \n",
    "        #Dealing cards to the player \n",
    "        Player.hand[0] = deck.pop(deck[random.randint(1,len(deck))])\n",
    "        Player.hand[1] = deck.pop(deck[random.randint(1,len(deck))])\n",
    "        print(Player.hand)"
   ]
  },
  {
   "cell_type": "code",
   "execution_count": null,
   "metadata": {},
   "outputs": [],
   "source": [
    "player = Player()\n",
    "player.place_bet()"
   ]
  },
  {
   "cell_type": "code",
   "execution_count": null,
   "metadata": {},
   "outputs": [],
   "source": []
  },
  {
   "cell_type": "code",
   "execution_count": null,
   "metadata": {},
   "outputs": [],
   "source": []
  },
  {
   "cell_type": "code",
   "execution_count": null,
   "metadata": {},
   "outputs": [],
   "source": []
  }
 ],
 "metadata": {
  "kernelspec": {
   "display_name": "Python 3",
   "language": "python",
   "name": "python3"
  },
  "language_info": {
   "codemirror_mode": {
    "name": "ipython",
    "version": 3
   },
   "file_extension": ".py",
   "mimetype": "text/x-python",
   "name": "python",
   "nbconvert_exporter": "python",
   "pygments_lexer": "ipython3",
   "version": "3.7.1"
  }
 },
 "nbformat": 4,
 "nbformat_minor": 2
}
