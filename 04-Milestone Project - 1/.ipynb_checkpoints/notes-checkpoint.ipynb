{
 "cells": [
  {
   "cell_type": "code",
   "execution_count": 1,
   "metadata": {},
   "outputs": [],
   "source": [
    "from IPython.display import clear_output\n",
    "\n",
    "def display_board(board):\n",
    "    print(board[1] + '|' + board[2] + '|' + board[3]+ '\\n' +\n",
    "          board[4] + '|' + board[5] + '|' + board[6] + '\\n' +\n",
    "         board[7] + '|' + board[8] + '|' + board[9])\n"
   ]
  },
  {
   "cell_type": "code",
   "execution_count": 2,
   "metadata": {},
   "outputs": [
    {
     "name": "stdout",
     "output_type": "stream",
     "text": [
      "X|O|X\n",
      "O|X|O\n",
      "X|O|X\n"
     ]
    }
   ],
   "source": [
    "test_board = ['#','X','O','X','O','X','O','X','O','X']\n",
    "display_board(test_board)"
   ]
  },
  {
   "cell_type": "code",
   "execution_count": 3,
   "metadata": {},
   "outputs": [],
   "source": [
    "def player_input():\n",
    "    choices = ['X','O']\n",
    "    player1 = input(\"Choose between X or O: \").upper()\n",
    "    while player1 not in choices:\n",
    "        player1 = input(\"Nope! Please choose either X or O: \")\n",
    "    else:\n",
    "        print(\"You have selected \" + player1)\n",
    "\n",
    "    choices.remove(str(player1))\n",
    "    player2 = choices[0]\n"
   ]
  },
  {
   "cell_type": "code",
   "execution_count": 4,
   "metadata": {},
   "outputs": [
    {
     "name": "stdin",
     "output_type": "stream",
     "text": [
      "Choose between X or O:  X\n"
     ]
    },
    {
     "name": "stdout",
     "output_type": "stream",
     "text": [
      "You have selected X\n"
     ]
    }
   ],
   "source": [
    "player_input()"
   ]
  },
  {
   "cell_type": "code",
   "execution_count": 5,
   "metadata": {},
   "outputs": [],
   "source": [
    "def place_marker(board, marker, position):\n",
    "    board[position] = marker\n",
    "    display_board(board)\n",
    "    "
   ]
  },
  {
   "cell_type": "code",
   "execution_count": 6,
   "metadata": {},
   "outputs": [
    {
     "name": "stdout",
     "output_type": "stream",
     "text": [
      "X|O|X\n",
      "X|X|O\n",
      "X|O|X\n"
     ]
    }
   ],
   "source": [
    "place_marker(test_board,'X',4)"
   ]
  },
  {
   "cell_type": "code",
   "execution_count": 7,
   "metadata": {},
   "outputs": [],
   "source": [
    "def win_check(board, mark):\n",
    "    if (mark in board[1] and board[2] and board[3]):\n",
    "        return True\n",
    "        \n",
    "    elif (mark in board[4] and board[5] and board[6]):\n",
    "        return True\n",
    "        \n",
    "    elif (mark in board[7] and board[8] and board[9]):\n",
    "        return True\n",
    "        \n",
    "    elif (mark in board[1] and board[4] and board[7]):\n",
    "        return True\n",
    "    \n",
    "    elif (mark in board[2] and board[5] and board[8]):\n",
    "        return True\n",
    "    \n",
    "    elif (mark in board[3] and board[6] and board[9]):\n",
    "        return True\n",
    "        \n",
    "    elif (mark in board[1] and board[5] and board[9]):\n",
    "        return True\n",
    "    \n",
    "    elif (mark in board[3] and board[5] and board[7]):\n",
    "        return True\n",
    "        \n",
    "    else:\n",
    "        return False\n",
    "    "
   ]
  },
  {
   "cell_type": "code",
   "execution_count": 8,
   "metadata": {},
   "outputs": [
    {
     "data": {
      "text/plain": [
       "True"
      ]
     },
     "execution_count": 8,
     "metadata": {},
     "output_type": "execute_result"
    }
   ],
   "source": [
    "test_board = ['#','X','O','X','O','X','O','X','O',' ']\n",
    "win_check(test_board,'X')"
   ]
  },
  {
   "cell_type": "code",
   "execution_count": 9,
   "metadata": {},
   "outputs": [
    {
     "name": "stdout",
     "output_type": "stream",
     "text": [
      "Player X is playing first!\n"
     ]
    }
   ],
   "source": [
    "import random\n",
    "\n",
    "def choose_first():\n",
    "    choices = ['X','O']\n",
    "    randomNumber = random.randint(0,1)\n",
    "    firstPlay = choices[randomNumber]\n",
    "    \n",
    "    print(\"Player \" + firstPlay + \" is playing first!\")\n",
    "    \n",
    "choose_first()"
   ]
  },
  {
   "cell_type": "code",
   "execution_count": 10,
   "metadata": {},
   "outputs": [
    {
     "data": {
      "text/plain": [
       "True"
      ]
     },
     "execution_count": 10,
     "metadata": {},
     "output_type": "execute_result"
    }
   ],
   "source": [
    "def space_check(board, position):\n",
    "    if board[position] == 'X' or board[position] == 'O':\n",
    "        return False\n",
    "    else:\n",
    "        return True\n",
    "    \n",
    "space_check(test_board, 9)"
   ]
  },
  {
   "cell_type": "code",
   "execution_count": 11,
   "metadata": {},
   "outputs": [
    {
     "data": {
      "text/plain": [
       "False"
      ]
     },
     "execution_count": 11,
     "metadata": {},
     "output_type": "execute_result"
    }
   ],
   "source": [
    "def full_board_check(board):\n",
    "    emptyString = ' '\n",
    "    if ' ' in board:\n",
    "        return False\n",
    "    else: \n",
    "        return True\n",
    "    \n",
    "full_board_check(test_board)"
   ]
  },
  {
   "cell_type": "code",
   "execution_count": null,
   "metadata": {},
   "outputs": [],
   "source": [
    "def player_choice(board):\n",
    "    positionChoices = [1,2,3,4,5,6,7,8,9]\n",
    "    playerChoice = int(input(\"What is your position selection? (select a number between 1-9)\"))\n",
    "    if playerChoice in positionChoices:\n",
    "        print(\"You have selected position \" + str(playerChoice) +  \" as your move\")\n",
    "        if (space_check(board,playerChoice)):\n",
    "            nextPosition = playerChoice\n",
    "            return nextPosition\n",
    "    else:\n",
    "        print(\"That is not a correct selection!\")\n",
    "        player_choice(board)\n",
    "#     else:\n",
    "#         while playerChoice not in positionChoices:\n",
    "#             playerChoice = int(input(\"Nope! Please make a correct selection (1-9): \"))\n",
    "#         else:\n",
    "#             print(\"You have selected position \" + str(playerChoice) +  \" as your move\")\n",
    "#             if (space_check(board,playerChoice)):\n",
    "#                 nextPosition = playerChoice\n",
    "#                 return nextPosition\n",
    "#             else:\n",
    "#                 player_choice(board)\n",
    "              \n",
    "player_choice(test_board)"
   ]
  },
  {
   "cell_type": "code",
   "execution_count": null,
   "metadata": {},
   "outputs": [],
   "source": []
  }
 ],
 "metadata": {
  "kernelspec": {
   "display_name": "Python 3",
   "language": "python",
   "name": "python3"
  },
  "language_info": {
   "codemirror_mode": {
    "name": "ipython",
    "version": 3
   },
   "file_extension": ".py",
   "mimetype": "text/x-python",
   "name": "python",
   "nbconvert_exporter": "python",
   "pygments_lexer": "ipython3",
   "version": "3.7.1"
  }
 },
 "nbformat": 4,
 "nbformat_minor": 2
}
