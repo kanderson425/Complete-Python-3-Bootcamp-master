{
 "cells": [
  {
   "cell_type": "code",
   "execution_count": null,
   "metadata": {},
   "outputs": [],
   "source": [
    "# while True:\n",
    "#     playerguess = input(\"Guess a number between 1 and 100:\")\n",
    "#     if playerguess != randnum:\n",
    "#         print(\"That is wrong, pick again\")\n",
    "#         guesses.append(playerguess)\n",
    "#         pass\n",
    "#     else:\n",
    "#         print(\"Congrats! You've guessed the number!\")\n",
    "#         break\n",
    "from random import randint\n",
    "randnum = randint(1,100)\n",
    "guesses = []\n",
    "\n",
    "\n",
    "playerguess = input(\"Guess a number between 1 and 100:\")\n",
    "if playerguess != randnum:\n",
    "    print(\"That is wrong, pick again\")\n",
    "    guesses.append(playerguess)\n",
    "else:\n",
    "    print(\"Congrats! You've guessed the number!\")"
   ]
  },
  {
   "cell_type": "code",
   "execution_count": null,
   "metadata": {},
   "outputs": [],
   "source": []
  }
 ],
 "metadata": {
  "kernelspec": {
   "display_name": "Python 3",
   "language": "python",
   "name": "python3"
  },
  "language_info": {
   "codemirror_mode": {
    "name": "ipython",
    "version": 3
   },
   "file_extension": ".py",
   "mimetype": "text/x-python",
   "name": "python",
   "nbconvert_exporter": "python",
   "pygments_lexer": "ipython3",
   "version": "3.7.1"
  }
 },
 "nbformat": 4,
 "nbformat_minor": 2
}
